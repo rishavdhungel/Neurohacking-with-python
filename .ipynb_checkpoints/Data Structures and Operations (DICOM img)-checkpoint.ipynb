{
 "cells": [
  {
   "cell_type": "markdown",
   "id": "5bcaecbe",
   "metadata": {},
   "source": [
    "# File Types in Neuroimaging"
   ]
  },
  {
   "cell_type": "markdown",
   "id": "2b377c74",
   "metadata": {},
   "source": [
    "-DICOM (.dcm)<br>\n",
    "-NIfTI (.nii, .nii.gz)<br>\n",
    "-PAR/REC<br>\n",
    "-Analyze<br>\n",
    "-NRRD<br>"
   ]
  },
  {
   "cell_type": "markdown",
   "id": "4dca7d3c",
   "metadata": {},
   "source": [
    " **DICOM (Digital Imaging and Communications in Medicine) format**<br>\n",
    " -Standarized image representation<br>\n",
    " -Formats of files from the scanners or hospital PACS (Picture archiving and communication system)<br>\n",
    " -Includes metadata and imagedata(in pixels)<br>"
   ]
  },
  {
   "cell_type": "markdown",
   "id": "57397a9f",
   "metadata": {},
   "source": [
    "**Lets look at the dataset structure of overall files**"
   ]
  },
  {
   "cell_type": "code",
   "execution_count": 5,
   "id": "480b882e",
   "metadata": {
    "scrolled": false
   },
   "outputs": [
    {
     "name": "stdout",
     "output_type": "stream",
     "text": [
      "Found directory: ./Neurohacking_data-0.0/\n",
      "\t.DS_Store\n",
      "\tREADME.csv\n",
      "Found directory: ./Neurohacking_data-0.0/Template\n",
      "\tTEMPLATE_MNI152_T1_1mm_brain.nii.gz\n",
      "Found directory: ./Neurohacking_data-0.0/BRAINIX\n",
      "Found directory: ./Neurohacking_data-0.0/BRAINIX/DICOM\n",
      "\t.DS_Store\n",
      "Found directory: ./Neurohacking_data-0.0/BRAINIX/DICOM/T2\n",
      "\t.DS_Store\n",
      "\tBRAINIX_DICOM_T2_IM-0001-0021.dcm\n",
      "\tBRAINIX_DICOM_T2_IM-0001-0014.dcm\n",
      "\tBRAINIX_DICOM_T2_IM-0001-0003.dcm\n",
      "\tBRAINIX_DICOM_T2_IM-0001-0001.dcm\n",
      "\tBRAINIX_DICOM_T2_IM-0001-0005.dcm\n",
      "\tBRAINIX_DICOM_T2_IM-0001-0010.dcm\n",
      "\tBRAINIX_DICOM_T2_IM-0001-0018.dcm\n",
      "\tBRAINIX_DICOM_T2_IM-0001-0006.dcm\n",
      "\tBRAINIX_DICOM_T2_IM-0001-0022.dcm\n",
      "\tBRAINIX_DICOM_T2_IM-0001-0020.dcm\n",
      "\tBRAINIX_DICOM_T2_IM-0001-0015.dcm\n",
      "\tBRAINIX_DICOM_T2_IM-0001-0012.dcm\n",
      "\tBRAINIX_DICOM_T2_IM-0001-0011.dcm\n",
      "\tBRAINIX_DICOM_T2_IM-0001-0004.dcm\n",
      "\tBRAINIX_DICOM_T2_IM-0001-0019.dcm\n",
      "\tBRAINIX_DICOM_T2_IM-0001-0009.dcm\n",
      "\tBRAINIX_DICOM_T2_IM-0001-0013.dcm\n",
      "\tBRAINIX_DICOM_T2_IM-0001-0017.dcm\n",
      "\tBRAINIX_DICOM_T2_IM-0001-0016.dcm\n",
      "\tBRAINIX_DICOM_T2_IM-0001-0008.dcm\n",
      "\tBRAINIX_DICOM_T2_IM-0001-0007.dcm\n",
      "\tBRAINIX_DICOM_T2_IM-0001-0002.dcm\n",
      "Found directory: ./Neurohacking_data-0.0/BRAINIX/DICOM/FLAIR\n",
      "\tBRAINIX_DICOM_FLAIR_IM-0001-0016.dcm\n",
      "\t.DS_Store\n",
      "\tBRAINIX_DICOM_FLAIR_IM-0001-0014.dcm\n",
      "\tBRAINIX_DICOM_FLAIR_IM-0001-0012.dcm\n",
      "\tBRAINIX_DICOM_FLAIR_IM-0001-0002.dcm\n",
      "\tBRAINIX_DICOM_FLAIR_IM-0001-0009.dcm\n",
      "\tBRAINIX_DICOM_FLAIR_IM-0001-0013.dcm\n",
      "\tBRAINIX_DICOM_FLAIR_IM-0001-0008.dcm\n",
      "\tBRAINIX_DICOM_FLAIR_IM-0001-0006.dcm\n",
      "\tBRAINIX_DICOM_FLAIR_IM-0001-0007.dcm\n",
      "\tBRAINIX_DICOM_FLAIR_IM-0001-0018.dcm\n",
      "\tBRAINIX_DICOM_FLAIR_IM-0001-0019.dcm\n",
      "\tBRAINIX_DICOM_FLAIR_IM-0001-0015.dcm\n",
      "\tBRAINIX_DICOM_FLAIR_IM-0001-0021.dcm\n",
      "\tBRAINIX_DICOM_FLAIR_IM-0001-0010.dcm\n",
      "\tBRAINIX_DICOM_FLAIR_IM-0001-0022.dcm\n",
      "\tBRAINIX_DICOM_FLAIR_IM-0001-0001.dcm\n",
      "\tBRAINIX_DICOM_FLAIR_IM-0001-0017.dcm\n",
      "\tBRAINIX_DICOM_FLAIR_IM-0001-0011.dcm\n",
      "\tBRAINIX_DICOM_FLAIR_IM-0001-0003.dcm\n",
      "\tBRAINIX_DICOM_FLAIR_IM-0001-0005.dcm\n",
      "\tBRAINIX_DICOM_FLAIR_IM-0001-0020.dcm\n",
      "\tBRAINIX_DICOM_FLAIR_IM-0001-0004.dcm\n",
      "Found directory: ./Neurohacking_data-0.0/BRAINIX/DICOM/T1\n",
      "\tBRAINIX_DICOM_T1_IM-0001-0005.dcm\n",
      "\t.DS_Store\n",
      "\tBRAINIX_DICOM_T1_IM-0001-0011.dcm\n",
      "\tBRAINIX_DICOM_T1_IM-0001-0006.dcm\n",
      "\tBRAINIX_DICOM_T1_IM-0001-0003.dcm\n",
      "\tBRAINIX_DICOM_T1_IM-0001-0012.dcm\n",
      "\tBRAINIX_DICOM_T1_IM-0001-0008.dcm\n",
      "\tBRAINIX_DICOM_T1_IM-0001-0010.dcm\n",
      "\tBRAINIX_DICOM_T1_IM-0001-0013.dcm\n",
      "\tBRAINIX_DICOM_T1_IM-0001-0020.dcm\n",
      "\tBRAINIX_DICOM_T1_IM-0001-0007.dcm\n",
      "\tBRAINIX_DICOM_T1_IM-0001-0016.dcm\n",
      "\tBRAINIX_DICOM_T1_IM-0001-0014.dcm\n",
      "\tBRAINIX_DICOM_T1_IM-0001-0001.dcm\n",
      "\tBRAINIX_DICOM_T1_IM-0001-0022.dcm\n",
      "\tBRAINIX_DICOM_T1_IM-0001-0019.dcm\n",
      "\tBRAINIX_DICOM_T1_IM-0001-0021.dcm\n",
      "\tBRAINIX_DICOM_T1_IM-0001-0015.dcm\n",
      "\tBRAINIX_DICOM_T1_IM-0001-0018.dcm\n",
      "\tBRAINIX_DICOM_T1_IM-0001-0002.dcm\n",
      "\tBRAINIX_DICOM_T1_IM-0001-0009.dcm\n",
      "\tBRAINIX_DICOM_T1_IM-0001-0017.dcm\n",
      "\tBRAINIX_DICOM_T1_IM-0001-0004.dcm\n",
      "Found directory: ./Neurohacking_data-0.0/BRAINIX/DICOM/ROI\n",
      "\tBRAINIX_DICOM_ROI_IM-0001-0021.dcm\n",
      "\tBRAINIX_DICOM_ROI_IM-0001-0015.dcm\n",
      "\t.DS_Store\n",
      "\tBRAINIX_DICOM_ROI_IM-0001-0010.dcm\n",
      "\tBRAINIX_DICOM_ROI_IM-0001-0016.dcm\n",
      "\tBRAINIX_DICOM_ROI_IM-0001-0013.dcm\n",
      "\tBRAINIX_DICOM_ROI_IM-0001-0007.dcm\n",
      "\tBRAINIX_DICOM_ROI_IM-0001-0002.dcm\n",
      "\tBRAINIX_DICOM_ROI_IM-0001-0018.dcm\n",
      "\tBRAINIX_DICOM_ROI_IM-0001-0019.dcm\n",
      "\tBRAINIX_DICOM_ROI_IM-0001-0003.dcm\n",
      "\tBRAINIX_DICOM_ROI_IM-0001-0014.dcm\n",
      "\tBRAINIX_DICOM_ROI_IM-0001-0011.dcm\n",
      "\tBRAINIX_DICOM_ROI_IM-0001-0004.dcm\n",
      "\tBRAINIX_DICOM_ROI_IM-0001-0012.dcm\n",
      "\tBRAINIX_DICOM_ROI_IM-0001-0020.dcm\n",
      "\tBRAINIX_DICOM_ROI_IM-0001-0009.dcm\n",
      "\tBRAINIX_DICOM_ROI_IM-0001-0006.dcm\n",
      "\tBRAINIX_DICOM_ROI_IM-0001-0001.dcm\n",
      "\tBRAINIX_DICOM_ROI_IM-0001-0022.dcm\n",
      "\tBRAINIX_DICOM_ROI_IM-0001-0017.dcm\n",
      "\tBRAINIX_DICOM_ROI_IM-0001-0005.dcm\n",
      "\tBRAINIX_DICOM_ROI_IM-0001-0008.dcm\n",
      "Found directory: ./Neurohacking_data-0.0/BRAINIX/NIfTI\n",
      "\t.DS_Store\n",
      "\tBRAINIX_NIFTI_T1.nii.gz\n",
      "\tBRAINIX_NIFTI_ROI.nii.gz\n",
      "\tBRAINIX_NIFTI_Output_3D_File.nii.gz\n",
      "\tBRAINIX_NIFTI_FLAIR.nii.gz\n",
      "\tBRAINIX_NIFTI_T2.nii.gz\n",
      "Found directory: ./Neurohacking_data-0.0/kirby21\n",
      "Found directory: ./Neurohacking_data-0.0/kirby21/visit_1\n",
      "\t.DS_Store\n",
      "Found directory: ./Neurohacking_data-0.0/kirby21/visit_1/113\n",
      "\t.DS_Store\n",
      "\tkirby21_visit_1_113_113-01-MPRAGE.nii.gz\n",
      "\tkirby21_visit_1_113_113-01-FLAIR.nii.gz\n",
      "\tkirby21_visit_1_113_113-01-T2w.nii.gz\n",
      "Found directory: ./Neurohacking_data-0.0/kirby21/visit_2\n",
      "\t.DS_Store\n",
      "Found directory: ./Neurohacking_data-0.0/kirby21/visit_2/113\n",
      "\tkirby21_visit_2_113_113-02-T2w.nii.gz\n",
      "\t.DS_Store\n",
      "\tkirby21_visit_2_113_113-02-FLAIR.nii.gz\n",
      "\tkirby21_visit_2_113_113-02-MPRAGE.nii.gz\n"
     ]
    }
   ],
   "source": [
    " #Import the os module, for the os.walk function\n",
    "import os\n",
    " \n",
    "# Set the directory you want to start from\n",
    "rootDir = './Neurohacking_data-0.0/'\n",
    "for dirName, subdirList, fileList in os.walk(rootDir):\n",
    "    print('Found directory: %s' % dirName)\n",
    "    for fname in fileList:\n",
    "        print('\\t%s' % fname)"
   ]
  },
  {
   "cell_type": "markdown",
   "id": "d2b22a0e",
   "metadata": {},
   "source": [
    "**-The pixel data in a DICOM file is a matrix (fixed rows and columns)<br>**\n",
    "**-One DICOM file = one 'slice' of the brain**<br>\n",
    "**-The pydicom is used in Python to read these data**"
   ]
  },
  {
   "cell_type": "code",
   "execution_count": 7,
   "id": "6cc3f02f",
   "metadata": {},
   "outputs": [],
   "source": [
    "dicom_dir = './Neurohacking_data-0.0/BRAINIX/DICOM/'"
   ]
  },
  {
   "cell_type": "code",
   "execution_count": null,
   "id": "a31210b0",
   "metadata": {},
   "outputs": [],
   "source": []
  }
 ],
 "metadata": {
  "kernelspec": {
   "display_name": "Python 3 (ipykernel)",
   "language": "python",
   "name": "python3"
  },
  "language_info": {
   "codemirror_mode": {
    "name": "ipython",
    "version": 3
   },
   "file_extension": ".py",
   "mimetype": "text/x-python",
   "name": "python",
   "nbconvert_exporter": "python",
   "pygments_lexer": "ipython3",
   "version": "3.9.2"
  }
 },
 "nbformat": 4,
 "nbformat_minor": 5
}
