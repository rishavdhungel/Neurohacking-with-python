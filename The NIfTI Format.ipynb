{
 "cells": [
  {
   "cell_type": "markdown",
   "id": "cb69ba85",
   "metadata": {},
   "source": [
    "**NIfTI (Neuroimaging Informatics Technology Initiative ) format**<br>\n",
    "-Standardized representation of images<br>\n",
    "-Most commonly used type of analytic file<br>\n",
    "-Developed to facilitate cross-platform, cross-software interpretability<br>\n",
    "-3-dimensional(3D) array: stacking individual slices on top of each other<br>\n",
    "**DICOM is like onesheet of paper and NIfTI  is like stack of papers**"
   ]
  },
  {
   "cell_type": "markdown",
   "id": "21d90db4",
   "metadata": {},
   "source": [
    "**----> DICOM header contains many fields, protected health information, hospital related meta-data**"
   ]
  },
  {
   "cell_type": "markdown",
   "id": "ea684526",
   "metadata": {},
   "source": [
    "**----> NIfTI header contains image meta-data, no patient information**"
   ]
  },
  {
   "cell_type": "markdown",
   "id": "af43f068",
   "metadata": {},
   "source": [
    "# Converting DICOM to NIfTI format image"
   ]
  },
  {
   "cell_type": "markdown",
   "id": "8bcb66b4",
   "metadata": {},
   "source": [
    "**---->DICOM series can be converted to NIfTI using 'dicom2nifti' in python**"
   ]
  },
  {
   "cell_type": "code",
   "execution_count": 2,
   "id": "ef97645f",
   "metadata": {},
   "outputs": [],
   "source": [
    "import dicom2nifti\n",
    "dicom2nifti.convert_directory('./Neurohacking_data-0.0/BRAINIX/DICOM/FLAIR/','./DICOM2NIfTI/',compression=False)"
   ]
  },
  {
   "cell_type": "code",
   "execution_count": null,
   "id": "67542b7a",
   "metadata": {},
   "outputs": [],
   "source": [
    "nifti_img_path= './DICOM2NIfTI/401_st2wflair.nii.gz'\n"
   ]
  }
 ],
 "metadata": {
  "kernelspec": {
   "display_name": "Python 3 (ipykernel)",
   "language": "python",
   "name": "python3"
  },
  "language_info": {
   "codemirror_mode": {
    "name": "ipython",
    "version": 3
   },
   "file_extension": ".py",
   "mimetype": "text/x-python",
   "name": "python",
   "nbconvert_exporter": "python",
   "pygments_lexer": "ipython3",
   "version": "3.9.2"
  }
 },
 "nbformat": 4,
 "nbformat_minor": 5
}
